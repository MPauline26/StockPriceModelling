{
 "cells": [
  {
   "cell_type": "markdown",
   "metadata": {},
   "source": [
    "# Draft of GUI using Tkinter\n",
    "Main Source: https://www.geeksforgeeks.org/create-first-gui-application-using-python-tkinter/"
   ]
  },
  {
   "cell_type": "code",
   "execution_count": 1,
   "metadata": {},
   "outputs": [],
   "source": [
    "from tkinter import *"
   ]
  },
  {
   "cell_type": "code",
   "execution_count": 2,
   "metadata": {},
   "outputs": [
    {
     "name": "stdout",
     "output_type": "stream",
     "text": [
      "5\n",
      "['5']\n"
     ]
    }
   ],
   "source": [
    "# create root window\n",
    "root = Tk()\n",
    "\n",
    "# root window title and dimension\n",
    "root.title(\"Stock Price Modelling\")\n",
    "root.geometry('480x270')\n",
    "\n",
    "# adding a label to the root window\n",
    "lbl = Label(root, text = \"Select Number of Stocks\")\n",
    "lbl.grid()\n",
    "\n",
    "# adding Entry Field\n",
    "txt = Entry(root, width=10)\n",
    "txt.grid(column =1, row =0)\n",
    "\n",
    "list_of_results = []\n",
    "\n",
    "# function when button is clicked\n",
    "def clicked():\n",
    "    value = txt.get()\n",
    "    list_of_results.append(value)\n",
    "    print(value)\n",
    "    print(list_of_results)\n",
    "    \n",
    "# button widget with black color text inside\n",
    "btn = Button(root, text = \"OK\", fg = \"black\", command=clicked)\n",
    "# Set Button Grid\n",
    "btn.grid(column=2, row=0)\n",
    "\n",
    "#lbl.configure(text = num_stocks)\n",
    "#print(num_stocks)\n",
    "\n",
    "# Execute Tkinter\n",
    "root.mainloop()\n"
   ]
  }
 ],
 "metadata": {
  "kernelspec": {
   "display_name": "Python 3",
   "language": "python",
   "name": "python3"
  },
  "language_info": {
   "codemirror_mode": {
    "name": "ipython",
    "version": 3
   },
   "file_extension": ".py",
   "mimetype": "text/x-python",
   "name": "python",
   "nbconvert_exporter": "python",
   "pygments_lexer": "ipython3",
   "version": "3.12.2"
  }
 },
 "nbformat": 4,
 "nbformat_minor": 2
}
